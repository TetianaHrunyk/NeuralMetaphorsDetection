{
  "nbformat": 4,
  "nbformat_minor": 0,
  "metadata": {
    "colab": {
      "name": "CreateDataSetReport.ipynb",
      "provenance": [],
      "authorship_tag": "ABX9TyPxVlRWRnhbNMkg71RQ3lWb",
      "include_colab_link": true
    },
    "kernelspec": {
      "name": "python3",
      "display_name": "Python 3"
    },
    "language_info": {
      "name": "python"
    }
  },
  "cells": [
    {
      "cell_type": "markdown",
      "metadata": {
        "id": "view-in-github",
        "colab_type": "text"
      },
      "source": [
        "<a href=\"https://colab.research.google.com/github/TetianaHrunyk/NeuralMetaphorsDetection/blob/master/CreateDataSetReport.ipynb\" target=\"_parent\"><img src=\"https://colab.research.google.com/assets/colab-badge.svg\" alt=\"Open In Colab\"/></a>"
      ]
    },
    {
      "cell_type": "code",
      "metadata": {
        "id": "3PcQetqApix1"
      },
      "source": [
        "import re\n",
        "import urllib.request\n",
        "import string "
      ],
      "execution_count": 18,
      "outputs": []
    },
    {
      "cell_type": "code",
      "metadata": {
        "colab": {
          "base_uri": "https://localhost:8080/"
        },
        "id": "8J3Me6q7opUw",
        "outputId": "227c8e64-02b8-4a43-a616-08818bbe5225"
      },
      "source": [
        "# from google.colab import drive\n",
        "# drive.mount('/content/drive')"
      ],
      "execution_count": 1,
      "outputs": [
        {
          "output_type": "stream",
          "text": [
            "Mounted at /content/drive\n"
          ],
          "name": "stdout"
        }
      ]
    },
    {
      "cell_type": "code",
      "metadata": {
        "id": "HsYg4Tedo88Z"
      },
      "source": [
        "url='https://raw.githubusercontent.com/TetianaHrunyk/NeuralMetaphorsDetection/master/McMillanMetaphors_train.csv'"
      ],
      "execution_count": 9,
      "outputs": []
    },
    {
      "cell_type": "markdown",
      "metadata": {
        "id": "69MpcxTRppzr"
      },
      "source": [
        "# Read the file"
      ]
    },
    {
      "cell_type": "code",
      "metadata": {
        "id": "H5Guj0Bpq5KL"
      },
      "source": [
        "TOTAL = 0\n",
        "METAPHORICAL = 0"
      ],
      "execution_count": 24,
      "outputs": []
    },
    {
      "cell_type": "code",
      "metadata": {
        "id": "OVPpTCpupTWW"
      },
      "source": [
        "file = urllib.request.urlopen(url)"
      ],
      "execution_count": 25,
      "outputs": []
    },
    {
      "cell_type": "code",
      "metadata": {
        "id": "Fimfylv0po_l"
      },
      "source": [
        "for line in file:\n",
        "  decoded_line = line.decode(\"utf-8\")\n",
        "  line = decoded_line.strip('\"')\n",
        "  for word in line.split(\" \"):\n",
        "    if word not in string.punctuation:\n",
        "      TOTAL += 1\n",
        "      if word.startswith(\"M_\"):\n",
        "        METAPHORICAL += 1"
      ],
      "execution_count": 26,
      "outputs": []
    },
    {
      "cell_type": "code",
      "metadata": {
        "colab": {
          "base_uri": "https://localhost:8080/"
        },
        "id": "aHECmfkKqyJ1",
        "outputId": "8e6b7891-9417-44bd-a655-c02245903de8"
      },
      "source": [
        "print(\"Metaphorical/literal ratio: \", round((METAPHORICAL/TOTAL)*100, 2))"
      ],
      "execution_count": 27,
      "outputs": [
        {
          "output_type": "stream",
          "text": [
            "Metaphorical/literal ratio:  14.58\n"
          ],
          "name": "stdout"
        }
      ]
    },
    {
      "cell_type": "code",
      "metadata": {
        "id": "uCSEKdT1w3fa"
      },
      "source": [
        ""
      ],
      "execution_count": null,
      "outputs": []
    }
  ]
}