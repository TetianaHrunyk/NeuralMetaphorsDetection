{
  "nbformat": 4,
  "nbformat_minor": 0,
  "metadata": {
    "colab": {
      "name": "MD2_add_pretrained_GloVe.ipynb",
      "provenance": [],
      "collapsed_sections": [],
      "authorship_tag": "ABX9TyMOzDKeyEsKvzqForn1epks",
      "include_colab_link": true
    },
    "kernelspec": {
      "name": "python3",
      "display_name": "Python 3"
    },
    "language_info": {
      "name": "python"
    }
  },
  "cells": [
    {
      "cell_type": "markdown",
      "metadata": {
        "id": "view-in-github",
        "colab_type": "text"
      },
      "source": [
        "<a href=\"https://colab.research.google.com/github/TetianaHrunyk/NeuralMetaphorsDetection/blob/master/MD2_add_pretrained_GloVe.ipynb\" target=\"_parent\"><img src=\"https://colab.research.google.com/assets/colab-badge.svg\" alt=\"Open In Colab\"/></a>"
      ]
    },
    {
      "cell_type": "code",
      "metadata": {
        "id": "-DN-fdELxpEH"
      },
      "source": [
        "import pandas as pd\n",
        "import numpy as np\n",
        "import torch\n",
        "import torch.nn as nn\n",
        "import torch.nn.functional as F\n",
        "import torch.optim as optim\n",
        "from torch.utils.data import Dataset\n",
        "from torchtext.data.utils import get_tokenizer\n",
        "from collections import Counter\n",
        "from torchtext.vocab import Vocab\n",
        "import torchtext\n",
        "from torch.utils.data import DataLoader\n",
        "import regex\n",
        "from time import time"
      ],
      "execution_count": 81,
      "outputs": []
    },
    {
      "cell_type": "code",
      "metadata": {
        "id": "MkVwDSs0g6k8"
      },
      "source": [
        "EMBEDDING_DIM = 50\n",
        "PRETRAINED_VECTORS = 'glove.6B.'+str(EMBEDDING_DIM)+'d'\n",
        "\n",
        "#PRETRAINED_VECTORS = vocab.Vectors(name = 'custom_embeddings.txt')"
      ],
      "execution_count": 82,
      "outputs": []
    },
    {
      "cell_type": "code",
      "metadata": {
        "id": "25fZrwqmnJ0N"
      },
      "source": [
        "import matplotlib.pyplot as plt\n",
        "\n",
        "def plot_errors(title, training_losses, test_loss=None, block=True):\n",
        "    plt.figure(num=title)\n",
        "    plt.plot(training_losses, label='Training loss')\n",
        "\n",
        "    if test_loss:\n",
        "        plt.plot([test_loss]*len(training_losses), label='Test loss')\n",
        "\n",
        "    plt.tight_layout()\n",
        "    plt.legend()\n",
        "    plt.show(block=block)"
      ],
      "execution_count": 83,
      "outputs": []
    },
    {
      "cell_type": "markdown",
      "metadata": {
        "id": "Yx03GOsa5rz1"
      },
      "source": [
        "# Load the data, create custom data set"
      ]
    },
    {
      "cell_type": "code",
      "metadata": {
        "id": "o60aeRIwx0xh"
      },
      "source": [
        "data_path='https://raw.githubusercontent.com/TetianaHrunyk/NeuralMetaphorsDetection/master/'"
      ],
      "execution_count": 84,
      "outputs": []
    },
    {
      "cell_type": "code",
      "metadata": {
        "id": "jKB9eJ9Rz2Pn"
      },
      "source": [
        "class CustomDataset(Dataset):\n",
        "  def __init__(self, path, nrows=None, tokenizer=None):\n",
        "    self.text = pd.read_csv(path, header=None, names=[\"txt\"], dtype='str', nrows=nrows)\n",
        "    self.text.dropna(inplace=True)\n",
        "    self.tokenizer = tokenizer\n",
        "\n",
        "  def __len__(self):\n",
        "    return self.text.shape[0]\n",
        "\n",
        "  def __getitem__(self, idx):\n",
        "    tokenized = self.tokenizer(self.text.txt.iloc[idx].rstrip('\\n'))\n",
        "    labels = \" \".join([str(int(word.startswith(\"M_\"))) for word in tokenized if word not in [\"\", \" \"]])\n",
        "    txt = \" \".join([word.replace(\"M_\", \"\").lower() for word in tokenized if word not in [\"\", \" \"]])\n",
        "    return labels, txt\n"
      ],
      "execution_count": 85,
      "outputs": []
    },
    {
      "cell_type": "code",
      "metadata": {
        "id": "pAxhGAz0XRyc"
      },
      "source": [
        "en_tokenizer = get_tokenizer('spacy', language='en_core_web_sm')"
      ],
      "execution_count": 86,
      "outputs": []
    },
    {
      "cell_type": "code",
      "metadata": {
        "id": "r9l86utH-GhO"
      },
      "source": [
        "train_data = CustomDataset(data_path+\"vuamc_train.csv\", nrows=2000, tokenizer=en_tokenizer)\n",
        "test_data = CustomDataset(data_path+\"vuamc_test.csv\",  nrows=100, tokenizer=en_tokenizer)"
      ],
      "execution_count": 87,
      "outputs": []
    },
    {
      "cell_type": "markdown",
      "metadata": {
        "id": "ZhHvdPEc5vU-"
      },
      "source": [
        "# Build Vocab"
      ]
    },
    {
      "cell_type": "code",
      "metadata": {
        "id": "DvXIL2QK5f0U"
      },
      "source": [
        "def build_vocab(data):\n",
        "  counter = Counter()\n",
        "  for row in data:\n",
        "      counter.update(row[1].split(\" \"))\n",
        "  return Vocab(counter, specials=['<unk>', '<pad>', '<bos>', '<eos>'], min_freq=1, vectors=PRETRAINED_VECTORS)"
      ],
      "execution_count": 88,
      "outputs": []
    },
    {
      "cell_type": "code",
      "metadata": {
        "id": "WDuPQaKB59iN"
      },
      "source": [
        "vocab = build_vocab(train_data)"
      ],
      "execution_count": 89,
      "outputs": []
    },
    {
      "cell_type": "markdown",
      "metadata": {
        "id": "DQaBZHu97HTt"
      },
      "source": [
        "# Data Loader"
      ]
    },
    {
      "cell_type": "code",
      "metadata": {
        "id": "GEahlvyw84K5"
      },
      "source": [
        "text_pipeline = lambda x: [vocab[token] for token in x.lower().rstrip(\"\\n\").split(\" \")]\n",
        "label_pipeline = lambda x: [ int(l) for l in x.split(\" \")]"
      ],
      "execution_count": 90,
      "outputs": []
    },
    {
      "cell_type": "code",
      "metadata": {
        "id": "HwWI3-mE9VDm"
      },
      "source": [
        "device = torch.device(\"cuda\" if torch.cuda.is_available() else \"cpu\")\n",
        "\n",
        "def collate_batch(batch):\n",
        "    label_list, text_list = [], []\n",
        "    for labels, text in batch:    \n",
        "        processed_text = text_pipeline(text)\n",
        "        text_tensor = torch.tensor(processed_text, dtype=torch.int64)\n",
        "        text_list.append(text_tensor) \n",
        "\n",
        "        processed_labels=label_pipeline(labels)\n",
        "        label_tensor = torch.tensor(processed_labels, dtype=torch.int64)\n",
        "        label_list.append(label_tensor)\n",
        "\n",
        "    label_list = torch.cat(label_list)\n",
        "    text_list = torch.cat(text_list)\n",
        "    \n",
        "    return label_list.to(device), text_list.to(device)"
      ],
      "execution_count": 91,
      "outputs": []
    },
    {
      "cell_type": "code",
      "metadata": {
        "id": "aBKbDduu8IS4"
      },
      "source": [
        "train_dataloader = DataLoader(train_data, batch_size=8, shuffle=False, collate_fn=collate_batch)\n",
        "test_dataloader = DataLoader(test_data, batch_size=8, shuffle=False, collate_fn=collate_batch)"
      ],
      "execution_count": 92,
      "outputs": []
    },
    {
      "cell_type": "markdown",
      "metadata": {
        "id": "PxQMRs9cd1BW"
      },
      "source": [
        "# Define the model"
      ]
    },
    {
      "cell_type": "code",
      "metadata": {
        "id": "7m-F6XkcBibf"
      },
      "source": [
        "class LSTMTagger(nn.Module):\n",
        "    def __init__(self, embedding_dim, hidden_dim, vocab_size, tagset_size):\n",
        "        super(LSTMTagger_Embed, self).__init__()\n",
        "        \n",
        "        self.hidden_dim = hidden_dim\n",
        "        self.word_embeddings = nn.Embedding(vocab_size, embedding_dim)\n",
        "        self.word_embeddings.weight = nn.Parameter(vocab.vectors)\n",
        "\n",
        "        self.lstm = nn.LSTM(embedding_dim, hidden_dim)                                                                \n",
        "\n",
        "        self.hidden2tag =  nn.Linear(hidden_dim, tagset_size) \n",
        "        self.hidden = self.init_hidden()         \n",
        "\n",
        "    def init_hidden(self):\n",
        "        return (torch.zeros(1, 1, self.hidden_dim),                                     \n",
        "                torch.zeros(1, 1, self.hidden_dim))\n",
        "\n",
        "    def forward(self, sentence):\n",
        "        embeds =  self.word_embeddings(sentence)                                                                                               \n",
        "        lstm_out, self.hidden =  self.lstm(embeds.view(len(sentence), 1, -1))               \n",
        "        tag_prediction = self.hidden2tag(lstm_out.view(len(sentence), -1))                     \n",
        "        tag_scores = F.log_softmax(tag_prediction, dim=1)                       \n",
        "        return tag_scores\n",
        "\n",
        "def train(model, n_epochs, dataloader, loss_function, optimizer):\n",
        "    model.train()\n",
        "    train_losses = []\n",
        "    for epoch in range(n_epochs):\n",
        "        epoch_start = time()\n",
        "        for i, (tags, sentence) in enumerate(dataloader):\n",
        "            model.zero_grad()\n",
        "            model.hidden = model.init_hidden()\n",
        "            \n",
        "            tag_scores = model(sentence)\n",
        "            loss = loss_function(tag_scores, tags)\n",
        "            train_losses.append(loss)\n",
        "           \n",
        "            loss.backward()\n",
        "            optimizer.step()\n",
        "        epoch_end = time()\n",
        "        print('Epoch %d, loss: %0.4f, epoch took %d sec' % (epoch + 1, loss, round(epoch_end-epoch_start)))\n",
        "    \n",
        "    return train_losses\n",
        "\n",
        "def report_accuracy(model, dataloader, n=None, print_data=False):\n",
        "    if n==None:\n",
        "      n=TRAIN_DATA_LEN\n",
        "    with torch.no_grad():\n",
        "        total, total_correct, total_exact_correct = 0, 0, 0\n",
        "        TP, TN, FP, FN = 0, 0, 0, 0\n",
        "        for tags, sentence in dataloader:\n",
        "            scores = model(sentence)\n",
        "            out = torch.argmax(scores, dim=1).tolist()\n",
        "            targets = tags.tolist()\n",
        "            correct = 0\n",
        "            length = len(targets)\n",
        "            \n",
        "            for i in range(length):\n",
        "                if out[i] == targets[i]:\n",
        "                  correct += 1\n",
        "                  if targets[i] == 1:\n",
        "                    TP += 1\n",
        "                  elif targets[i] == 0:\n",
        "                    TN += 1\n",
        "                else:\n",
        "                  if targets[i] == 1:\n",
        "                    FN += 1\n",
        "                  elif targets[i] == 0:\n",
        "                    FP += 1\n",
        "\n",
        "            if (print_data):\n",
        "                print('data: ' + str(dict(zip(sentence, tags))))\n",
        "                print('pred: ' + str(dict(zip(sentence, out))))\n",
        "                print('Correct: %d of %d' % (correct, length))\n",
        "\n",
        "            total += length\n",
        "            total_correct += correct\n",
        "            if correct == length:\n",
        "                total_exact_correct += 1\n",
        "\n",
        "        print('Accuracy (exact): %d / %d, %0.4f' % (total_exact_correct, n, total_exact_correct / n))\n",
        "        print('Accuracy: %d / %d, %0.4f \\n' % (total_correct, total, total_correct / total))\n",
        "        print(\"{:5}| {:10} | {:10}\\n{}\".format(\"\", \"T\", \"F\", \"-\"*30))\n",
        "        print(\"{:5}| {:10} | {:10}\".format(\"P\", TP, FP))\n",
        "        print(\"{:5}| {:10} | {:10}\\n\".format(\"N\", TN, FN))\n",
        "        \n",
        "        den = 0.00001 if TP+FP == 0 else TP+FP\n",
        "        print(\"Precision: \", round(TP/den, 2))\n",
        "        den = 0.00001 if TP+FN == 0 else TP+FN\n",
        "        print(\"Recall: \", round(TP/den, 2))\n",
        "        den = 0.00001 if TP+TN+FP+FN == 0 else TP+TN+FP+FN\n",
        "        print(\"F1: \", 2*TP/den)\n"
      ],
      "execution_count": 93,
      "outputs": []
    },
    {
      "cell_type": "code",
      "metadata": {
        "id": "BmNH3oyMt-_C"
      },
      "source": [
        "def predict(model, text, printPred=True):\n",
        "  processed_text = text_pipeline(text)\n",
        "  sentence = torch.tensor(processed_text, dtype=torch.int64)\n",
        "  with torch.no_grad():\n",
        "    scores = model(sentence)\n",
        "    out = torch.argmax(scores, dim=1).tolist()\n",
        "    if printPred:\n",
        "      print('Predicted labels: ' + str(dict(zip(en_tokenizer(text), out))))\n",
        "    else:\n",
        "      return sentence, out"
      ],
      "execution_count": 94,
      "outputs": []
    },
    {
      "cell_type": "markdown",
      "metadata": {
        "id": "B8WRBygrVrWS"
      },
      "source": [
        "# Train model"
      ]
    },
    {
      "cell_type": "code",
      "metadata": {
        "id": "hv1NROFtVI7w",
        "colab": {
          "base_uri": "https://localhost:8080/",
          "height": 817
        },
        "outputId": "386c5c38-2b76-47f2-8c71-ed85a4503f13"
      },
      "source": [
        "torch.manual_seed(1)\n",
        "\n",
        "HIDDEN_DIM = 10  \n",
        "n_epochs = 5      \n",
        "TRAIN_DATA_LEN = len(train_data)\n",
        "TEST_DATA_LEN = len(test_data)\n",
        "TAGS = [0, 1]\n",
        "\n",
        "\n",
        "model = LSTMTagger(EMBEDDING_DIM, HIDDEN_DIM, len(vocab), len(TAGS))\n",
        "\n",
        "optimizer = optim.SGD(model.parameters(), lr=0.1)            \n",
        "loss_function = nn.NLLLoss()      \n",
        "\n",
        "train_losses = train(model, n_epochs, train_dataloader, loss_function, optimizer)\n",
        "\n",
        "print(\"\\nTraining Accuracy\")\n",
        "report_accuracy(model, train_dataloader)\n",
        "plot_errors(training_losses=train_losses, title='Training loss')\n",
        "print(\"\\nAccuracy for testing data\")\n",
        "report_accuracy(model, test_dataloader)\n"
      ],
      "execution_count": 95,
      "outputs": [
        {
          "output_type": "stream",
          "text": [
            "Epoch 1, loss: 0.2447, epoch took 78 sec\n",
            "Epoch 2, loss: 0.2443, epoch took 78 sec\n",
            "Epoch 3, loss: 0.2436, epoch took 78 sec\n",
            "Epoch 4, loss: 0.2438, epoch took 78 sec\n",
            "Epoch 5, loss: 0.2444, epoch took 78 sec\n",
            "\n",
            "Training Accuracy\n",
            "Accuracy (exact): 0 / 2000, 0.0000\n",
            "Accuracy: 36761 / 42646, 0.8620 \n",
            "\n",
            "     | T          | F         \n",
            "------------------------------\n",
            "P    |        288 |        340\n",
            "N    |      36473 |       5545\n",
            "\n",
            "Precision:  0.46\n",
            "Recall:  0.05\n",
            "F1:  0.013506542231393331\n"
          ],
          "name": "stdout"
        },
        {
          "output_type": "display_data",
          "data": {
            "image/png": "[encoded data removed]",
            "text/plain": [
              "<Figure size 432x288 with 1 Axes>"
            ]
          },
          "metadata": {
            "tags": [],
            "needs_background": "light"
          }
        },
        {
          "output_type": "stream",
          "text": [
            "\n",
            "Accuracy for testing data\n"
          ],
          "name": "stdout"
        },
        {
          "output_type": "error",
          "ename": "NameError",
          "evalue": "ignored",
          "traceback": [
            "\u001b[0;31m---------------------------------------------------------------------------\u001b[0m",
            "\u001b[0;31mNameError\u001b[0m                                 Traceback (most recent call last)",
            "\u001b[0;32m<ipython-input-95-ccb2486553ea>\u001b[0m in \u001b[0;36m<module>\u001b[0;34m()\u001b[0m\n\u001b[1;32m     19\u001b[0m \u001b[0mplot_errors\u001b[0m\u001b[0;34m(\u001b[0m\u001b[0mtraining_losses\u001b[0m\u001b[0;34m=\u001b[0m\u001b[0mtrain_losses\u001b[0m\u001b[0;34m,\u001b[0m \u001b[0mtitle\u001b[0m\u001b[0;34m=\u001b[0m\u001b[0;34m'Training loss'\u001b[0m\u001b[0;34m)\u001b[0m\u001b[0;34m\u001b[0m\u001b[0;34m\u001b[0m\u001b[0m\n\u001b[1;32m     20\u001b[0m \u001b[0mprint\u001b[0m\u001b[0;34m(\u001b[0m\u001b[0;34m\"\\nAccuracy for testing data\"\u001b[0m\u001b[0;34m)\u001b[0m\u001b[0;34m\u001b[0m\u001b[0;34m\u001b[0m\u001b[0m\n\u001b[0;32m---> 21\u001b[0;31m \u001b[0mreport_accuracy\u001b[0m\u001b[0;34m(\u001b[0m\u001b[0mmodel\u001b[0m\u001b[0;34m,\u001b[0m \u001b[0mtest_dataloader\u001b[0m\u001b[0;34m)\u001b[0m\u001b[0;34m\u001b[0m\u001b[0;34m\u001b[0m\u001b[0m\n\u001b[0m",
            "\u001b[0;31mNameError\u001b[0m: name 'test_dataloader' is not defined"
          ]
        }
      ]
    },
    {
      "cell_type": "markdown",
      "metadata": {
        "id": "iq8edFBfcYId"
      },
      "source": [
        "# Interrogte the model"
      ]
    },
    {
      "cell_type": "code",
      "metadata": {
        "id": "Xz8Vgi5VwL37",
        "colab": {
          "base_uri": "https://localhost:8080/"
        },
        "outputId": "15e87728-bcc9-4090-828f-a8be938c3ce3"
      },
      "source": [
        "predict(model, \"Some metaphorical data\")"
      ],
      "execution_count": 96,
      "outputs": [
        {
          "output_type": "stream",
          "text": [
            "Predicted labels: {'Some': 0, 'metaphorical': 0, 'data': 1}\n"
          ],
          "name": "stdout"
        }
      ]
    },
    {
      "cell_type": "code",
      "metadata": {
        "id": "zx2qKLcCfirJ"
      },
      "source": [
        ""
      ],
      "execution_count": null,
      "outputs": []
    },
    {
      "cell_type": "markdown",
      "metadata": {
        "id": "2ZTZ_WIdBrKd"
      },
      "source": [
        "# Save the model"
      ]
    },
    {
      "cell_type": "code",
      "metadata": {
        "colab": {
          "base_uri": "https://localhost:8080/"
        },
        "id": "vM2HRIJQBtZi",
        "outputId": "12370ecf-feb3-403f-a21a-ba737ab251e5"
      },
      "source": [
        "from google.colab import drive\n",
        "drive.mount('/content/drive')"
      ],
      "execution_count": 2,
      "outputs": [
        {
          "output_type": "stream",
          "text": [
            "Mounted at /content/drive\n"
          ],
          "name": "stdout"
        }
      ]
    },
    {
      "cell_type": "code",
      "metadata": {
        "id": "KsLSAoIEB-f9"
      },
      "source": [
        "torch.save(model.state_dict(), '/content/drive/MyDrive/Colab Notebooks/thesis')"
      ],
      "execution_count": null,
      "outputs": []
    },
    {
      "cell_type": "code",
      "metadata": {
        "id": "ljyVF6m-CYvE"
      },
      "source": [
        "#LOAD MODEL\n",
        "#model = LSTMTagger(EMBEDDING_DIM, HIDDEN_DIM, len(vocab), len(TAGS))\n",
        "#model.load_state_dict(torch.load('/content/drive/MyDrive/Colab Notebooks/thesis'))\n",
        "#model.eval()"
      ],
      "execution_count": null,
      "outputs": []
    }
  ]
}