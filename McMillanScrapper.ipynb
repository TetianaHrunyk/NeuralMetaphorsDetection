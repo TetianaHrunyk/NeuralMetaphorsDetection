{
  "nbformat": 4,
  "nbformat_minor": 0,
  "metadata": {
    "colab": {
      "name": "McMillanScrapper.ipynb",
      "provenance": [],
      "collapsed_sections": [],
      "toc_visible": true,
      "authorship_tag": "ABX9TyP2epTge4JM04L+nVmOjcWa",
      "include_colab_link": true
    },
    "kernelspec": {
      "display_name": "Python 3",
      "name": "python3"
    },
    "language_info": {
      "name": "python"
    }
  },
  "cells": [
    {
      "cell_type": "markdown",
      "metadata": {
        "id": "view-in-github",
        "colab_type": "text"
      },
      "source": [
        "<a href=\"https://colab.research.google.com/github/TetianaHrunyk/NeuralMetaphorsDetection/blob/master/McMillanScrapper.ipynb\" target=\"_parent\"><img src=\"https://colab.research.google.com/assets/colab-badge.svg\" alt=\"Open In Colab\"/></a>"
      ]
    },
    {
      "cell_type": "markdown",
      "metadata": {
        "id": "KzWr9bgu8yYC"
      },
      "source": [
        "# Import libraries and define constants"
      ]
    },
    {
      "cell_type": "code",
      "metadata": {
        "id": "l1YGxRDZ_4Mg"
      },
      "source": [
        "import requests\n",
        "from bs4 import BeautifulSoup as bs\n",
        "import string\n",
        "import time\n",
        "import re\n",
        "import random\n",
        "import pandas as pd"
      ],
      "execution_count": null,
      "outputs": []
    },
    {
      "cell_type": "code",
      "metadata": {
        "colab": {
          "base_uri": "https://localhost:8080/"
        },
        "id": "vPb0snQyO8KF",
        "outputId": "5de2b76d-c8a8-4773-9351-9eb132e66ac6"
      },
      "source": [
        "import nltk\n",
        "from nltk.corpus import stopwords\n",
        "nltk.download('stopwords')"
      ],
      "execution_count": null,
      "outputs": [
        {
          "output_type": "stream",
          "text": [
            "[nltk_data] Downloading package stopwords to /root/nltk_data...\n",
            "[nltk_data]   Unzipping corpora/stopwords.zip.\n"
          ],
          "name": "stdout"
        },
        {
          "output_type": "execute_result",
          "data": {
            "text/plain": [
              "True"
            ]
          },
          "metadata": {
            "tags": []
          },
          "execution_count": 4
        }
      ]
    },
    {
      "cell_type": "code",
      "metadata": {
        "id": "6oPmaqp5GO0R"
      },
      "source": [
        "start_url = \"https://www.macmillandictionary.com/dictionary/british/splendid\"\n",
        "HEADERS = {'Connection': 'keep-alive',\n",
        "           'User-Agent': 'User-Agent: Mozilla/5.0 (Windows NT 10.0; Win64; x64; rv:62.0) Gecko/20100101 Firefox/62.0'\n",
        "          }\n",
        "BASE_URL = \"https://www.macmillandictionary.com/dictionary/british/\"\n",
        "MAX_ITER = 400\n",
        "OUTER_ITER = 1000\n",
        "stwrds = stopwords.words('english')\n",
        "\n",
        "backup_links = [\"passion\", \"lust_1\", \"desire_1\", \"success\", \"smila_1\", \"king\", \"courtesy_1\", \"dome\", \"pea\", \"princess\"]"
      ],
      "execution_count": null,
      "outputs": []
    },
    {
      "cell_type": "markdown",
      "metadata": {
        "id": "RbB2rHCF85g_"
      },
      "source": [
        "# Define helping functions"
      ]
    },
    {
      "cell_type": "code",
      "metadata": {
        "id": "CoYUGR2sQRVL"
      },
      "source": [
        "def process_page(soup):\n",
        "  divs = soup.find_all(\"div\", class_= \"toggle-toggle entry-bold flex-extend ONEBOX-HEAD\", text=\"Metaphor\")\n",
        "  output = []\n",
        "  if divs:\n",
        "    items = divs[0].find_parent().find_next_siblings(\"div\", class_=\"hidden-closed\")[0].find_all(\"li\")\n",
        "    for item in items:\n",
        "      text = item.text\n",
        "      met = item.a.text\n",
        "      met_ind = text.find(met)\n",
        "      temp = text[:met_ind]\n",
        "      for word in met.split(\" \"):\n",
        "        if (word in string.punctuation) or (word in stwrds):\n",
        "          temp += \" \"+word\n",
        "          continue\n",
        "        temp += \" M_\"+word\n",
        "      temp += \" \"+text[met_ind+len(met):]\n",
        "      output.append(temp)\n",
        "  return output\n"
      ],
      "execution_count": null,
      "outputs": []
    },
    {
      "cell_type": "code",
      "metadata": {
        "id": "Hmss1F0cC2Go"
      },
      "source": [
        "def process_page_get_all(soup):\n",
        "  divs = soup.find_all(\"div\", class_= \"toggle-toggle entry-bold flex-extend ONEBOX-HEAD\", text=\"Metaphor\")\n",
        "  output = []\n",
        "  if divs:\n",
        "    items = divs[0].find_parent().find_next_siblings(\"div\", class_=\"hidden-closed\")[0].find_all(\"li\")\n",
        "    for item in items:\n",
        "      text = item.text\n",
        "      met = item.a.text\n",
        "      met_ind = text.find(met)\n",
        "      temp = text[:met_ind]\n",
        "      for word in met.split(\" \"):\n",
        "        if (word in string.punctuation) or (word in stwrds):\n",
        "          temp += \" \"+word\n",
        "          continue\n",
        "        temp += \" M_\"+word\n",
        "      temp += \" \"+text[met_ind+len(met):]\n",
        "      output.append(temp)\n",
        "    examples = soup.find_all(\"p\", class_= \"EXAMPLE\")\n",
        "    for example in examples:\n",
        "      output.append(example.get_text())\n",
        "    random.shuffle(output)\n",
        "  return output"
      ],
      "execution_count": null,
      "outputs": []
    },
    {
      "cell_type": "code",
      "metadata": {
        "id": "k7tiO8gQWe08"
      },
      "source": [
        "def get_links(soup):\n",
        "  links = []\n",
        "  divs = soup.find_all(\"div\", class_=\"synonyms row\")\n",
        "  base_len = 64\n",
        "  for div in divs:\n",
        "      links += div.find_all(\"a\")\n",
        "  links = list(map(lambda x: str(x)[base_len: str(x).find(\"title\")-2].split(\"#\")[0], links))\n",
        "  links_ = []\n",
        "  for link in links:\n",
        "    if link not in links_:\n",
        "      links_.append(link)\n",
        "  return links_"
      ],
      "execution_count": null,
      "outputs": []
    },
    {
      "cell_type": "code",
      "metadata": {
        "id": "6uhV5x7mW-3i"
      },
      "source": [
        "def scrape(start_url, page_process_func=process_page):\n",
        "  itr = 0\n",
        "  page = requests.get(start_url, headers=HEADERS)\n",
        "  soup = bs(page.content, 'html.parser')\n",
        "  data = page_process_func(soup)\n",
        "  links = get_links(soup)\n",
        "  hist = []\n",
        "  while links and itr < MAX_ITER:\n",
        "    itr += 1\n",
        "    ind = random.randint(0, len(links)-1)\n",
        "    if itr%100 == 0:\n",
        "      print(\"Iter: {}, scrapping {}, data: {}, links: {}\".format(itr, BASE_URL+links[ind], len(data), len(links)))\n",
        "    hist.append(links[ind])\n",
        "    page = requests.get(BASE_URL+links[ind], headers=HEADERS)\n",
        "    links.pop(ind)\n",
        "    soup = bs(page.content, 'html.parser')\n",
        "    data += page_process_func(soup)\n",
        "    old_links = links.copy()\n",
        "    links += [link for link in get_links(soup) if link not in hist+old_links]\n",
        "    time.sleep(2)\n",
        "  return data, links\n"
      ],
      "execution_count": null,
      "outputs": []
    },
    {
      "cell_type": "markdown",
      "metadata": {
        "id": "e7FgYXN38sp9"
      },
      "source": [
        "# Run the scrapper and save the data"
      ]
    },
    {
      "cell_type": "code",
      "metadata": {
        "colab": {
          "background_save": true,
          "base_uri": "https://localhost:8080/"
        },
        "id": "XeSdCXV9AT39",
        "outputId": "828af82f-e4c8-40f1-84d8-56e895eb715f"
      },
      "source": [
        "DATA_len = 0\n",
        "for i in range(OUTER_ITER):\n",
        "  DATA = []\n",
        "  try:\n",
        "    print(\"Iter: {}, DATA: {}\".format(i, DATA_len))\n",
        "    if random.random() < 0.4: \n",
        "      more_data, links = scrape(start_url)\n",
        "    else:\n",
        "      more_data, links = scrape(start_url, process_page_get_all)\n",
        "    start_url = BASE_URL+random.choice(links)\n",
        "    DATA += more_data\n",
        "  except Exception as e:\n",
        "    print(e)\n",
        "    try:\n",
        "      start_url = BASE_URL+random.choice(links)\n",
        "    except Exception as e:\n",
        "      print(\"Level 2 exception: \", e)\n",
        "      start_url = BASE_URL+random.choice(backup_links)\n",
        "  df = pd.DataFrame(DATA)\n",
        "  df.to_csv(\"/content/drive/MyDrive/MsThesis/McMillanMetaphorsAll.csv\", mode=\"a\", index=False, header=False)\n",
        "  DATA_len += len(DATA)"
      ],
      "execution_count": null,
      "outputs": [
        {
          "output_type": "stream",
          "text": [
            "Iter: 0, DATA: 0\n",
            "Iter: 100, scrapping https://www.macmillandictionary.com/dictionary/british/individual_2, data: 12, links: 389\n",
            "Iter: 200, scrapping https://www.macmillandictionary.com/dictionary/british/painstaking, data: 31, links: 787\n",
            "Iter: 300, scrapping https://www.macmillandictionary.com/dictionary/british/acid_2, data: 86, links: 1071\n",
            "Iter: 400, scrapping https://www.macmillandictionary.com/dictionary/british/absorbance, data: 125, links: 1353\n",
            "Iter: 1, DATA: 125\n",
            "Iter: 100, scrapping https://www.macmillandictionary.com/dictionary/british/come-out, data: 0, links: 615\n",
            "Iter: 200, scrapping https://www.macmillandictionary.com/dictionary/british/think_1, data: 93, links: 976\n",
            "Iter: 300, scrapping https://www.macmillandictionary.com/dictionary/british/attenuated, data: 132, links: 1362\n",
            "Iter: 400, scrapping https://www.macmillandictionary.com/dictionary/british/harmless, data: 158, links: 1528\n",
            "Iter: 2, DATA: 283\n",
            "Iter: 100, scrapping https://www.macmillandictionary.com/dictionary/british/favouritism, data: 0, links: 618\n",
            "Iter: 200, scrapping https://www.macmillandictionary.com/dictionary/british/afghan_1, data: 0, links: 1039\n",
            "Iter: 300, scrapping https://www.macmillandictionary.com/dictionary/british/bookable, data: 0, links: 1287\n",
            "Iter: 400, scrapping https://www.macmillandictionary.com/dictionary/british/opposing, data: 0, links: 1523\n",
            "Iter: 3, DATA: 283\n",
            "Iter: 100, scrapping https://www.macmillandictionary.com/dictionary/british/army, data: 34, links: 428\n",
            "Iter: 200, scrapping https://www.macmillandictionary.com/dictionary/british/democracy, data: 34, links: 994\n",
            "Iter: 300, scrapping https://www.macmillandictionary.com/dictionary/british/affiliation-order, data: 53, links: 1323\n",
            "Iter: 400, scrapping https://www.macmillandictionary.com/dictionary/british/an-easy-target, data: 89, links: 1613\n",
            "Iter: 4, DATA: 372\n",
            "Iter: 100, scrapping https://www.macmillandictionary.com/dictionary/british/fasten, data: 28, links: 429\n",
            "Iter: 200, scrapping https://www.macmillandictionary.com/dictionary/british/cry_1, data: 50, links: 831\n",
            "Iter: 300, scrapping https://www.macmillandictionary.com/dictionary/british/risk_2, data: 68, links: 1125\n",
            "Iter: 400, scrapping https://www.macmillandictionary.com/dictionary/british/factory, data: 106, links: 1376\n",
            "Iter: 5, DATA: 478\n",
            "Iter: 100, scrapping https://www.macmillandictionary.com/dictionary/british/by-a-neck, data: 28, links: 471\n",
            "Iter: 200, scrapping https://www.macmillandictionary.com/dictionary/british/loaded, data: 113, links: 794\n",
            "Iter: 300, scrapping https://www.macmillandictionary.com/dictionary/british/vision, data: 139, links: 961\n",
            "Iter: 400, scrapping https://www.macmillandictionary.com/dictionary/british/muffled, data: 139, links: 1167\n",
            "Iter: 6, DATA: 617\n",
            "Cannot choose from an empty sequence\n",
            "Level 2 exception:  Cannot choose from an empty sequence\n",
            "Iter: 7, DATA: 617\n",
            "Iter: 100, scrapping https://www.macmillandictionary.com/dictionary/british/back_3, data: 97, links: 371\n",
            "Iter: 200, scrapping https://www.macmillandictionary.com/dictionary/british/use_2, data: 190, links: 664\n",
            "Iter: 300, scrapping https://www.macmillandictionary.com/dictionary/british/hater, data: 248, links: 951\n",
            "Iter: 400, scrapping https://www.macmillandictionary.com/dictionary/british/wholesome, data: 357, links: 1245\n",
            "Iter: 8, DATA: 974\n",
            "Iter: 100, scrapping https://www.macmillandictionary.com/dictionary/british/swatch_1, data: 0, links: 617\n",
            "Iter: 200, scrapping https://www.macmillandictionary.com/dictionary/british/bang-up_1, data: 26, links: 884\n",
            "Iter: 300, scrapping https://www.macmillandictionary.com/dictionary/british/insult_2, data: 54, links: 1110\n",
            "Iter: 400, scrapping https://www.macmillandictionary.com/dictionary/british/descend-from, data: 54, links: 1329\n",
            "Iter: 9, DATA: 1028\n",
            "Iter: 100, scrapping https://www.macmillandictionary.com/dictionary/british/lessen, data: 0, links: 629\n",
            "Iter: 200, scrapping https://www.macmillandictionary.com/dictionary/british/knowledgeable, data: 29, links: 977\n",
            "Iter: 300, scrapping https://www.macmillandictionary.com/dictionary/british/spoil, data: 29, links: 1267\n",
            "Iter: 400, scrapping https://www.macmillandictionary.com/dictionary/british/get-back-at, data: 29, links: 1453\n",
            "Iter: 10, DATA: 1057\n",
            "Iter: 100, scrapping https://www.macmillandictionary.com/dictionary/british/tackle_1, data: 67, links: 582\n",
            "Iter: 200, scrapping https://www.macmillandictionary.com/dictionary/british/on-the-pull, data: 67, links: 849\n",
            "Iter: 300, scrapping https://www.macmillandictionary.com/dictionary/british/assail, data: 98, links: 1071\n",
            "Iter: 400, scrapping https://www.macmillandictionary.com/dictionary/british/go-off, data: 98, links: 1312\n",
            "Iter: 11, DATA: 1155\n",
            "Iter: 100, scrapping https://www.macmillandictionary.com/dictionary/british/simple, data: 60, links: 471\n",
            "Iter: 200, scrapping https://www.macmillandictionary.com/dictionary/british/terse, data: 86, links: 774\n",
            "Iter: 300, scrapping https://www.macmillandictionary.com/dictionary/british/pile_1, data: 86, links: 992\n",
            "Iter: 400, scrapping https://www.macmillandictionary.com/dictionary/british/don-t-encourage-someone, data: 106, links: 1214\n",
            "Iter: 12, DATA: 1261\n",
            "Iter: 100, scrapping https://www.macmillandictionary.com/dictionary/british/circular_1, data: 49, links: 429\n",
            "Iter: 200, scrapping https://www.macmillandictionary.com/dictionary/british/adopt, data: 75, links: 913\n",
            "Iter: 300, scrapping https://www.macmillandictionary.com/dictionary/british/active-duty, data: 119, links: 1279\n",
            "Iter: 400, scrapping https://www.macmillandictionary.com/dictionary/british/assembly, data: 183, links: 1474\n",
            "Iter: 13, DATA: 1444\n",
            "Cannot choose from an empty sequence\n",
            "Level 2 exception:  Cannot choose from an empty sequence\n",
            "Iter: 14, DATA: 1444\n",
            "Iter: 100, scrapping https://www.macmillandictionary.com/dictionary/british/admirer, data: 30, links: 467\n",
            "Iter: 200, scrapping https://www.macmillandictionary.com/dictionary/british/sew, data: 95, links: 965\n",
            "Iter: 300, scrapping https://www.macmillandictionary.com/dictionary/british/ant, data: 141, links: 1358\n",
            "Iter: 400, scrapping https://www.macmillandictionary.com/dictionary/british/motivate, data: 158, links: 1516\n",
            "Iter: 15, DATA: 1602\n",
            "Iter: 100, scrapping https://www.macmillandictionary.com/dictionary/british/try_1, data: 31, links: 536\n",
            "Iter: 200, scrapping https://www.macmillandictionary.com/dictionary/british/study_2, data: 31, links: 872\n",
            "Iter: 300, scrapping https://www.macmillandictionary.com/dictionary/british/be-distantly-related-to-someone, data: 50, links: 1130\n",
            "Iter: 400, scrapping https://www.macmillandictionary.com/dictionary/british/out-of-touch, data: 68, links: 1325\n",
            "Iter: 16, DATA: 1670\n",
            "Iter: 100, scrapping https://www.macmillandictionary.com/dictionary/british/break-even-point, data: 67, links: 359\n",
            "Iter: 200, scrapping https://www.macmillandictionary.com/dictionary/british/trigger_1, data: 124, links: 739\n",
            "Iter: 300, scrapping https://www.macmillandictionary.com/dictionary/british/give-up, data: 209, links: 1148\n",
            "Iter: 400, scrapping https://www.macmillandictionary.com/dictionary/british/anger_2, data: 255, links: 1445\n",
            "Iter: 17, DATA: 1925\n",
            "Cannot choose from an empty sequence\n",
            "Level 2 exception:  Cannot choose from an empty sequence\n",
            "Iter: 18, DATA: 1925\n",
            "Cannot choose from an empty sequence\n",
            "Level 2 exception:  Cannot choose from an empty sequence\n",
            "Iter: 19, DATA: 1925\n",
            "Cannot choose from an empty sequence\n",
            "Level 2 exception:  Cannot choose from an empty sequence\n",
            "Iter: 20, DATA: 1925\n",
            "Iter: 100, scrapping https://www.macmillandictionary.com/dictionary/british/fan_1, data: 114, links: 345\n",
            "Iter: 200, scrapping https://www.macmillandictionary.com/dictionary/british/a-n-other, data: 160, links: 681\n",
            "Iter: 300, scrapping https://www.macmillandictionary.com/dictionary/british/back-end, data: 230, links: 959\n",
            "Iter: 400, scrapping https://www.macmillandictionary.com/dictionary/british/quickly, data: 256, links: 1304\n",
            "Iter: 21, DATA: 2181\n",
            "Iter: 100, scrapping https://www.macmillandictionary.com/dictionary/british/function_2, data: 15, links: 326\n",
            "Iter: 200, scrapping https://www.macmillandictionary.com/dictionary/british/priority, data: 63, links: 617\n",
            "Iter: 300, scrapping https://www.macmillandictionary.com/dictionary/british/act-as, data: 63, links: 932\n",
            "Iter: 400, scrapping https://www.macmillandictionary.com/dictionary/british/carpenter, data: 80, links: 1315\n",
            "Iter: 22, DATA: 2261\n",
            "Cannot choose from an empty sequence\n",
            "Level 2 exception:  Cannot choose from an empty sequence\n",
            "Iter: 23, DATA: 2261\n",
            "Iter: 100, scrapping https://www.macmillandictionary.com/dictionary/british/obscure_2, data: 13, links: 504\n",
            "Iter: 200, scrapping https://www.macmillandictionary.com/dictionary/british/convenience, data: 13, links: 956\n",
            "Iter: 300, scrapping https://www.macmillandictionary.com/dictionary/british/baddy, data: 21, links: 1222\n",
            "Iter: 400, scrapping https://www.macmillandictionary.com/dictionary/british/a-pig-in-a-poke, data: 21, links: 1494\n",
            "Iter: 24, DATA: 2282\n",
            "Iter: 100, scrapping https://www.macmillandictionary.com/dictionary/british/recognize, data: 40, links: 631\n",
            "Iter: 200, scrapping https://www.macmillandictionary.com/dictionary/british/burn-down, data: 40, links: 1019\n",
            "Iter: 300, scrapping https://www.macmillandictionary.com/dictionary/british/reverberate, data: 95, links: 1237\n",
            "Iter: 400, scrapping https://www.macmillandictionary.com/dictionary/british/accrual, data: 143, links: 1494\n",
            "Iter: 25, DATA: 2425\n",
            "Iter: 100, scrapping https://www.macmillandictionary.com/dictionary/british/quiet_1, data: 47, links: 395\n",
            "Iter: 200, scrapping https://www.macmillandictionary.com/dictionary/british/inappropriate, data: 79, links: 735\n",
            "Iter: 300, scrapping https://www.macmillandictionary.com/dictionary/british/impolite, data: 106, links: 1005\n",
            "Iter: 400, scrapping https://www.macmillandictionary.com/dictionary/british/asynchronous, data: 114, links: 1282\n",
            "Iter: 26, DATA: 2539\n",
            "Iter: 100, scrapping https://www.macmillandictionary.com/dictionary/british/give_1, data: 21, links: 707\n",
            "Iter: 200, scrapping https://www.macmillandictionary.com/dictionary/british/constructivist_2, data: 69, links: 1088\n",
            "Iter: 300, scrapping https://www.macmillandictionary.com/dictionary/british/turn-up_1, data: 69, links: 1260\n",
            "Iter: 400, scrapping https://www.macmillandictionary.com/dictionary/british/announce, data: 69, links: 1426\n",
            "Iter: 27, DATA: 2608\n",
            "Iter: 100, scrapping https://www.macmillandictionary.com/dictionary/british/want_2, data: 31, links: 441\n",
            "Iter: 200, scrapping https://www.macmillandictionary.com/dictionary/british/apprenticeship, data: 52, links: 1028\n",
            "Iter: 300, scrapping https://www.macmillandictionary.com/dictionary/british/intercept, data: 52, links: 1380\n",
            "Iter: 400, scrapping https://www.macmillandictionary.com/dictionary/british/dread_1, data: 63, links: 1584\n",
            "Iter: 28, DATA: 2671\n",
            "Iter: 100, scrapping https://www.macmillandictionary.com/dictionary/british/centralise, data: 0, links: 534\n",
            "Iter: 200, scrapping https://www.macmillandictionary.com/dictionary/british/stop_1, data: 0, links: 800\n",
            "Iter: 300, scrapping https://www.macmillandictionary.com/dictionary/british/moiety, data: 0, links: 1071\n",
            "Iter: 400, scrapping https://www.macmillandictionary.com/dictionary/british/flourish_2, data: 74, links: 1337\n",
            "Iter: 29, DATA: 2745\n",
            "Iter: 100, scrapping https://www.macmillandictionary.com/dictionary/british/blanch, data: 59, links: 605\n",
            "Iter: 200, scrapping https://www.macmillandictionary.com/dictionary/british/bareback, data: 59, links: 966\n",
            "Iter: 300, scrapping https://www.macmillandictionary.com/dictionary/british/point-to, data: 59, links: 1284\n",
            "Iter: 400, scrapping https://www.macmillandictionary.com/dictionary/british/bibliography, data: 59, links: 1541\n",
            "Iter: 30, DATA: 2804\n",
            "Iter: 100, scrapping https://www.macmillandictionary.com/dictionary/british/rumble_1, data: 27, links: 605\n",
            "Iter: 200, scrapping https://www.macmillandictionary.com/dictionary/british/bibliography, data: 27, links: 929\n",
            "Iter: 300, scrapping https://www.macmillandictionary.com/dictionary/british/pull-off, data: 49, links: 1276\n",
            "Iter: 400, scrapping https://www.macmillandictionary.com/dictionary/british/beat_1, data: 69, links: 1427\n",
            "Iter: 31, DATA: 2873\n",
            "Iter: 100, scrapping https://www.macmillandictionary.com/dictionary/british/chancellor, data: 0, links: 433\n",
            "Iter: 200, scrapping https://www.macmillandictionary.com/dictionary/british/blind-man-s-buff, data: 70, links: 822\n",
            "Iter: 300, scrapping https://www.macmillandictionary.com/dictionary/british/talent, data: 70, links: 1162\n",
            "Iter: 400, scrapping https://www.macmillandictionary.com/dictionary/british/hold-back, data: 131, links: 1435\n",
            "Iter: 32, DATA: 3004\n",
            "Iter: 100, scrapping https://www.macmillandictionary.com/dictionary/british/move-out, data: 0, links: 648\n",
            "Iter: 200, scrapping https://www.macmillandictionary.com/dictionary/british/abseiling, data: 43, links: 1010\n",
            "Iter: 300, scrapping https://www.macmillandictionary.com/dictionary/british/look-out-for, data: 53, links: 1257\n"
          ],
          "name": "stdout"
        }
      ]
    },
    {
      "cell_type": "markdown",
      "metadata": {
        "id": "n47AlTcTKBLe"
      },
      "source": [
        "# Save the data to a file"
      ]
    },
    {
      "cell_type": "code",
      "metadata": {
        "id": "GwOW9x1YJQUE"
      },
      "source": [
        "from google.colab import drive\n",
        "drive.mount('/content/drive')"
      ],
      "execution_count": null,
      "outputs": []
    },
    {
      "cell_type": "code",
      "metadata": {
        "id": "suPA0Il-ImBw"
      },
      "source": [
        "# df = pd.DataFrame(DATA)\n",
        "# df.to_csv(\"/content/drive/MyDrive/MsThesis/McMillanMetaphors5.csv\")"
      ],
      "execution_count": null,
      "outputs": []
    },
    {
      "cell_type": "code",
      "metadata": {
        "id": "oTkBnD4dJ79A"
      },
      "source": [
        "!wc -l /content/drive/MyDrive/MsThesis/McMillanMetaphorsAll.csv"
      ],
      "execution_count": null,
      "outputs": []
    },
    {
      "cell_type": "code",
      "metadata": {
        "id": "6WQLjtZhw3ts"
      },
      "source": [
        "!head -30 /content/drive/MyDrive/MsThesis/McMillanMetaphorsAll.csv"
      ],
      "execution_count": null,
      "outputs": []
    },
    {
      "cell_type": "code",
      "metadata": {
        "id": "Z45Kej06JOW-"
      },
      "source": [
        ""
      ],
      "execution_count": null,
      "outputs": []
    }
  ]
}